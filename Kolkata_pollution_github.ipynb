{
 "cells": [
  {
   "cell_type": "code",
   "execution_count": 1,
   "metadata": {},
   "outputs": [],
   "source": [
    "import plotly\n",
    "plotly.tools.set_credentials_file(username='arka.doctor', api_key='iFFxdM40vW50JV0dAKSc')\n",
    "import plotly.plotly as py\n",
    "import plotly.graph_objs as go\n",
    "import numpy as np\n",
    "import pandas as pd\n",
    "from plotly import tools\n",
    "df = pd.read_csv(\"https://api.data.gov.in/resource/3b01bcb8-0b14-4abf-b6f2-c1bfd384ba69?api-key=579b464db66ec23bdd0000016e71e72a06b249656a09baa6f61a874d&format=csv&offset=0&limit=10000\")\n",
    "df.drop([\"id\",\"country\",'pollutant_unit'],axis=1,inplace=True)\n",
    "df_victoria=df[(df['city']== 'Kolkata') & (df['station'] == 'Victoria, Kolkata - WBPCB')]\n",
    "df_rabindra=df[(df['city']== 'Kolkata') & (df['station'] == 'Rabindra Bharati University, Kolkata - WBPCB')]\n",
    "trace1 = go.Bar(\n",
    "    x=df_victoria.pollutant_id,\n",
    "    y=df_victoria.pollutant_avg,\n",
    "    name='Victoria')\n",
    "trace2 = go.Bar(\n",
    "    x=df_rabindra.pollutant_id,\n",
    "    y=df_rabindra.pollutant_avg,\n",
    "    name='Rabindra Bharati University')\n",
    "data = [trace1, trace2]\n",
    "layout = go.Layout(\n",
    "    legend=dict(x=0.3, y=0.7)\n",
    ")\n",
    "fig = go.Figure(data=data, layout=layout)\n",
    "fig['layout'].update(height=450, width=440, title='Real time Pollution in Kolkata')\n",
    "py.iplot(fig, filename='kolkata_pollution')\n",
    "plot_url = py.plot(fig, filename='Pollution in Kolkata')"
   ]
  },
  {
   "cell_type": "code",
   "execution_count": null,
   "metadata": {},
   "outputs": [],
   "source": []
  }
 ],
 "metadata": {
  "kernelspec": {
   "display_name": "Python 3",
   "language": "python",
   "name": "python3"
  },
  "language_info": {
   "codemirror_mode": {
    "name": "ipython",
    "version": 3
   },
   "file_extension": ".py",
   "mimetype": "text/x-python",
   "name": "python",
   "nbconvert_exporter": "python",
   "pygments_lexer": "ipython3",
   "version": "3.6.4"
  }
 },
 "nbformat": 4,
 "nbformat_minor": 2
}
